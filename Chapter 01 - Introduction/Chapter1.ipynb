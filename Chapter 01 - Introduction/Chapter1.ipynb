{
  "cells": [
    {
      "cell_type": "markdown",
      "metadata": {
        "id": "NFHOrtiGWJjm"
      },
      "source": [
        "# Chapter 1 - Introduction: Key Concepts, Notation, Set Theory, Relations, and Functions\n",
        "\n",
        "This notebook contains code accompanying Chapter 1 Introduction: Key Concepts, Notation, Set Theory, Relations, and Functions in *Practical Discrete Mathematics* by Ryan T. White and Archana Tikayat Ray\n",
        "\n",
        "## Functions and Relations\n",
        "\n",
        "### The `sort()` function"
      ]
    },
    {
      "cell_type": "code",
      "execution_count": null,
      "metadata": {
        "id": "5woPAX5oWJjo",
        "outputId": "fe2525c0-be59-4c36-e433-533445e2a591",
        "colab": {
          "base_uri": "https://localhost:8080/"
        }
      },
      "outputs": [
        {
          "output_type": "stream",
          "name": "stdout",
          "text": [
            "[1, 2, 3, 4, 5, 8, 9, 12]\n",
            "['Brandon', 'Elise', 'Eugene', 'Kumar', 'Wyatt']\n"
          ]
        }
      ],
      "source": [
        "numbers = [3, 1, 4, 12, 8, 5, 2, 9]\n",
        "names = ['Wyatt', 'Brandon', 'Kumar', 'Eugene', 'Elise']\n",
        "\n",
        "# Apply the sort() function to the lists\n",
        "numbers.sort()\n",
        "names.sort()\n",
        "\n",
        "# Display the output\n",
        "print(numbers)\n",
        "print(names)"
      ]
    },
    {
      "cell_type": "markdown",
      "metadata": {
        "id": "SfCfhNPBWJjp"
      },
      "source": [
        "### The `shuffle()` function"
      ]
    },
    {
      "cell_type": "code",
      "execution_count": null,
      "metadata": {
        "id": "Fx44u0gxWJjp",
        "outputId": "ec7c191a-26c2-4329-c45a-5a6d95bdd115",
        "colab": {
          "base_uri": "https://localhost:8080/"
        }
      },
      "outputs": [
        {
          "output_type": "stream",
          "name": "stdout",
          "text": [
            "[12, 2, 1, 5, 9, 3, 8, 4]\n",
            "[4, 2, 8, 3, 1, 12, 5, 9]\n",
            "[4, 5, 1, 9, 3, 8, 12, 2]\n",
            "[9, 12, 2, 8, 5, 3, 4, 1]\n",
            "[9, 8, 4, 3, 12, 1, 5, 2]\n"
          ]
        }
      ],
      "source": [
        "import random\n",
        "\n",
        "# Set a random seed so the code is reproducible\n",
        "random.seed(1)\n",
        "\n",
        "# Run the random.shuffle() function 5 times and display the outputs\n",
        "for i in range(0,5):\n",
        "    numbers = [3, 1, 4, 12, 8, 5, 2, 9]\n",
        "    random.shuffle(numbers)\n",
        "    print(numbers)"
      ]
    },
    {
      "cell_type": "markdown",
      "source": [
        "Code about union text"
      ],
      "metadata": {
        "id": "NdJgmpRzZ1V4"
      }
    },
    {
      "cell_type": "code",
      "source": [
        "# Create two sets of numbers\n",
        "set1 = {1, 2, 3, 4, 5}\n",
        "set2 = {4, 5, 6, 7, 8}\n",
        "\n",
        "# Perform union operation\n",
        "union_set = set1.union(set2)\n",
        "\n",
        "# Print the results\n",
        "print(\"Set 1:\", set1)\n",
        "print(\"Set 2:\", set2)\n",
        "print(\"Union of Set 1 and Set 2:\", union_set)"
      ],
      "metadata": {
        "id": "i-JMHvX7Y9Hr",
        "outputId": "7fcc4800-f4be-4291-8279-94b3d95210f1",
        "colab": {
          "base_uri": "https://localhost:8080/"
        }
      },
      "execution_count": null,
      "outputs": [
        {
          "output_type": "stream",
          "name": "stdout",
          "text": [
            "Set 1: {1, 2, 3, 4, 5}\n",
            "Set 2: {4, 5, 6, 7, 8}\n",
            "Union of Set 1 and Set 2: {1, 2, 3, 4, 5, 6, 7, 8}\n"
          ]
        }
      ]
    },
    {
      "cell_type": "markdown",
      "source": [
        "**Q1.** randomly create 2 set of number, find the common number in 2 sets"
      ],
      "metadata": {
        "id": "KPbyxt2JaTHP"
      }
    },
    {
      "cell_type": "code",
      "source": [
        "import random\n",
        "\n",
        "# Function to generate a random set of numbers\n",
        "def generate_random_set(size, min_val, max_val):\n",
        "    return set(random.randint(min_val, max_val) for _ in range(size))\n",
        "\n",
        "# Generate two random sets\n",
        "set1 = generate_random_set(10, 1, 20)\n",
        "set2 = generate_random_set(10, 1, 20)\n",
        "\n",
        "# Find the common numbers (intersection)\n",
        "common_numbers = set1.intersection(set2)\n",
        "\n",
        "# Print the results\n",
        "print(\"Set 1:\", set1)\n",
        "print(\"Set 2:\", set2)\n",
        "print(\"Common numbers:\", common_numbers)"
      ],
      "metadata": {
        "id": "YFT0QjgOZyR8",
        "outputId": "9d677549-24b3-4804-e142-b533fc4dcc52",
        "colab": {
          "base_uri": "https://localhost:8080/"
        }
      },
      "execution_count": null,
      "outputs": [
        {
          "output_type": "stream",
          "name": "stdout",
          "text": [
            "Set 1: {1, 8, 10, 12, 15, 16, 18}\n",
            "Set 2: {4, 6, 10, 11, 14, 17, 18}\n",
            "Common numbers: {10, 18}\n"
          ]
        }
      ]
    },
    {
      "cell_type": "markdown",
      "source": [
        "**Q2.** Shuffle the character in my name. for example: Tan Qi An. After shuffle nA iQ nTa"
      ],
      "metadata": {
        "id": "SZsoi6KJIr4T"
      }
    },
    {
      "cell_type": "code",
      "source": [
        "import random\n",
        "\n",
        "def shuffle_word(word):\n",
        "    chars = list(word)\n",
        "    random.shuffle(chars)\n",
        "    return ''.join(chars)\n",
        "\n",
        "def shuffle_name(name):\n",
        "    words = name.split()\n",
        "    shuffled_words = [shuffle_word(word) for word in words]\n",
        "    return ' '.join(shuffled_words)\n",
        "\n",
        "# Example usage\n",
        "original_name = \"Tan Qi An\"\n",
        "shuffled_name = shuffle_name(original_name)\n",
        "\n",
        "print(f\"Original name: {original_name}\")\n",
        "print(f\"Shuffled name: {shuffled_name}\")"
      ],
      "metadata": {
        "id": "YFyVt6iJavh5",
        "outputId": "e5f7d223-fa36-4495-ea6c-84cb8ed16954",
        "colab": {
          "base_uri": "https://localhost:8080/"
        }
      },
      "execution_count": null,
      "outputs": [
        {
          "output_type": "stream",
          "name": "stdout",
          "text": [
            "Original name: Tan Qi An\n",
            "Shuffled name: naT iQ nA\n"
          ]
        }
      ]
    },
    {
      "cell_type": "markdown",
      "source": [
        "**Q3.** Extract a table from wikipedia https://en.wikipedia.org/wiki/Frieren"
      ],
      "metadata": {
        "id": "bOwQgLpgILYn"
      }
    },
    {
      "cell_type": "code",
      "source": [
        "pip install pandas"
      ],
      "metadata": {
        "id": "ihGOZvoucJnM",
        "outputId": "f7b594c3-9e75-4d98-bb0e-e8034c817a94",
        "colab": {
          "base_uri": "https://localhost:8080/"
        }
      },
      "execution_count": null,
      "outputs": [
        {
          "output_type": "stream",
          "name": "stdout",
          "text": [
            "Requirement already satisfied: pandas in /usr/local/lib/python3.10/dist-packages (2.2.2)\n",
            "Requirement already satisfied: numpy>=1.22.4 in /usr/local/lib/python3.10/dist-packages (from pandas) (1.26.4)\n",
            "Requirement already satisfied: python-dateutil>=2.8.2 in /usr/local/lib/python3.10/dist-packages (from pandas) (2.8.2)\n",
            "Requirement already satisfied: pytz>=2020.1 in /usr/local/lib/python3.10/dist-packages (from pandas) (2024.2)\n",
            "Requirement already satisfied: tzdata>=2022.7 in /usr/local/lib/python3.10/dist-packages (from pandas) (2024.2)\n",
            "Requirement already satisfied: six>=1.5 in /usr/local/lib/python3.10/dist-packages (from python-dateutil>=2.8.2->pandas) (1.16.0)\n"
          ]
        }
      ]
    },
    {
      "cell_type": "code",
      "source": [
        "import pandas as pd\n",
        "\n",
        "# URL of the Wikipedia page\n",
        "url = \"https://en.wikipedia.org/wiki/Frieren\"\n",
        "\n",
        "# Read all tables from the Wikipedia page\n",
        "tables = pd.read_html(url)\n",
        "\n",
        "# Assuming you want the first table, you can access it like this:\n",
        "# (You might need to change the index if it's not the first table)\n",
        "first_table = tables[0]\n",
        "\n",
        "# Display the first few rows of the table\n",
        "print(first_table.head())\n",
        "\n",
        "# You can also save the table to a CSV file\n",
        "first_table.to_csv(\"frieren_table.csv\", index=False)\n"
      ],
      "metadata": {
        "id": "caoHUZLQbEMw",
        "outputId": "58548686-f568-457e-e7da-ade74566f123",
        "colab": {
          "base_uri": "https://localhost:8080/"
        }
      },
      "execution_count": null,
      "outputs": [
        {
          "output_type": "stream",
          "name": "stdout",
          "text": [
            "                                                   0  \\\n",
            "0                      Frieren: Beyond Journey's End   \n",
            "1  First tankōbon volume cover, featuring (from l...   \n",
            "2                         葬送のフリーレン (Sōsō no Furīren)   \n",
            "3                                              Genre   \n",
            "4                                              Manga   \n",
            "\n",
            "                                                   1  \n",
            "0                      Frieren: Beyond Journey's End  \n",
            "1  First tankōbon volume cover, featuring (from l...  \n",
            "2                         葬送のフリーレン (Sōsō no Furīren)  \n",
            "3                     Adventure[1]Drama[1]Fantasy[1]  \n",
            "4                                              Manga  \n"
          ]
        }
      ]
    }
  ],
  "metadata": {
    "kernelspec": {
      "display_name": "Python 3.7 (DL)",
      "language": "python",
      "name": "dl"
    },
    "language_info": {
      "codemirror_mode": {
        "name": "ipython",
        "version": 3
      },
      "file_extension": ".py",
      "mimetype": "text/x-python",
      "name": "python",
      "nbconvert_exporter": "python",
      "pygments_lexer": "ipython3",
      "version": "3.7.7"
    },
    "colab": {
      "provenance": []
    }
  },
  "nbformat": 4,
  "nbformat_minor": 0
}