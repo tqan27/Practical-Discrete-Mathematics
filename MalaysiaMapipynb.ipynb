{
  "nbformat": 4,
  "nbformat_minor": 0,
  "metadata": {
    "colab": {
      "provenance": [],
      "authorship_tag": "ABX9TyOUJkXeFWcwXdSgd3CKHHAC",
      "include_colab_link": true
    },
    "kernelspec": {
      "name": "python3",
      "display_name": "Python 3"
    },
    "language_info": {
      "name": "python"
    }
  },
  "cells": [
    {
      "cell_type": "markdown",
      "metadata": {
        "id": "view-in-github",
        "colab_type": "text"
      },
      "source": [
        "<a href=\"https://colab.research.google.com/github/tqan27/Practical-Discrete-Mathematics/blob/master/MalaysiaMapipynb.ipynb\" target=\"_parent\"><img src=\"https://colab.research.google.com/assets/colab-badge.svg\" alt=\"Open In Colab\"/></a>"
      ]
    },
    {
      "cell_type": "code",
      "execution_count": null,
      "metadata": {
        "colab": {
          "base_uri": "https://localhost:8080/",
          "height": 1000
        },
        "id": "YfCwZNClx9Ox",
        "outputId": "f8eda863-4c24-4f0b-ea6a-21aedcb1b7bb"
      },
      "outputs": [
        {
          "output_type": "stream",
          "name": "stdout",
          "text": [
            "Requirement already satisfied: geopandas in /usr/local/lib/python3.10/dist-packages (1.0.1)\n",
            "Requirement already satisfied: folium in /usr/local/lib/python3.10/dist-packages (0.18.0)\n",
            "Requirement already satisfied: matplotlib in /usr/local/lib/python3.10/dist-packages (3.8.0)\n",
            "Requirement already satisfied: numpy>=1.22 in /usr/local/lib/python3.10/dist-packages (from geopandas) (1.26.4)\n",
            "Requirement already satisfied: pyogrio>=0.7.2 in /usr/local/lib/python3.10/dist-packages (from geopandas) (0.10.0)\n",
            "Requirement already satisfied: packaging in /usr/local/lib/python3.10/dist-packages (from geopandas) (24.2)\n",
            "Requirement already satisfied: pandas>=1.4.0 in /usr/local/lib/python3.10/dist-packages (from geopandas) (2.2.2)\n",
            "Requirement already satisfied: pyproj>=3.3.0 in /usr/local/lib/python3.10/dist-packages (from geopandas) (3.7.0)\n",
            "Requirement already satisfied: shapely>=2.0.0 in /usr/local/lib/python3.10/dist-packages (from geopandas) (2.0.6)\n",
            "Requirement already satisfied: branca>=0.6.0 in /usr/local/lib/python3.10/dist-packages (from folium) (0.8.0)\n",
            "Requirement already satisfied: jinja2>=2.9 in /usr/local/lib/python3.10/dist-packages (from folium) (3.1.4)\n",
            "Requirement already satisfied: requests in /usr/local/lib/python3.10/dist-packages (from folium) (2.32.3)\n",
            "Requirement already satisfied: xyzservices in /usr/local/lib/python3.10/dist-packages (from folium) (2024.9.0)\n",
            "Requirement already satisfied: contourpy>=1.0.1 in /usr/local/lib/python3.10/dist-packages (from matplotlib) (1.3.1)\n",
            "Requirement already satisfied: cycler>=0.10 in /usr/local/lib/python3.10/dist-packages (from matplotlib) (0.12.1)\n",
            "Requirement already satisfied: fonttools>=4.22.0 in /usr/local/lib/python3.10/dist-packages (from matplotlib) (4.55.1)\n",
            "Requirement already satisfied: kiwisolver>=1.0.1 in /usr/local/lib/python3.10/dist-packages (from matplotlib) (1.4.7)\n",
            "Requirement already satisfied: pillow>=6.2.0 in /usr/local/lib/python3.10/dist-packages (from matplotlib) (11.0.0)\n",
            "Requirement already satisfied: pyparsing>=2.3.1 in /usr/local/lib/python3.10/dist-packages (from matplotlib) (3.2.0)\n",
            "Requirement already satisfied: python-dateutil>=2.7 in /usr/local/lib/python3.10/dist-packages (from matplotlib) (2.8.2)\n",
            "Requirement already satisfied: MarkupSafe>=2.0 in /usr/local/lib/python3.10/dist-packages (from jinja2>=2.9->folium) (3.0.2)\n",
            "Requirement already satisfied: pytz>=2020.1 in /usr/local/lib/python3.10/dist-packages (from pandas>=1.4.0->geopandas) (2024.2)\n",
            "Requirement already satisfied: tzdata>=2022.7 in /usr/local/lib/python3.10/dist-packages (from pandas>=1.4.0->geopandas) (2024.2)\n",
            "Requirement already satisfied: certifi in /usr/local/lib/python3.10/dist-packages (from pyogrio>=0.7.2->geopandas) (2024.8.30)\n",
            "Requirement already satisfied: six>=1.5 in /usr/local/lib/python3.10/dist-packages (from python-dateutil>=2.7->matplotlib) (1.16.0)\n",
            "Requirement already satisfied: charset-normalizer<4,>=2 in /usr/local/lib/python3.10/dist-packages (from requests->folium) (3.4.0)\n",
            "Requirement already satisfied: idna<4,>=2.5 in /usr/local/lib/python3.10/dist-packages (from requests->folium) (3.10)\n",
            "Requirement already satisfied: urllib3<3,>=1.21.1 in /usr/local/lib/python3.10/dist-packages (from requests->folium) (2.2.3)\n",
            "--2024-12-11 03:41:05--  https://geodata.ucdavis.edu/gadm/gadm4.1/shp/gadm41_MYS_shp.zip\n",
            "Resolving geodata.ucdavis.edu (geodata.ucdavis.edu)... 128.120.146.30\n",
            "Connecting to geodata.ucdavis.edu (geodata.ucdavis.edu)|128.120.146.30|:443... connected.\n",
            "HTTP request sent, awaiting response... 200 OK\n",
            "Length: 5856170 (5.6M) [application/zip]\n",
            "Saving to: ‘gadm41_MYS_shp.zip’\n",
            "\n",
            "gadm41_MYS_shp.zip  100%[===================>]   5.58M  10.9MB/s    in 0.5s    \n",
            "\n",
            "2024-12-11 03:41:06 (10.9 MB/s) - ‘gadm41_MYS_shp.zip’ saved [5856170/5856170]\n",
            "\n",
            "Archive:  gadm41_MYS_shp.zip\n",
            " extracting: gadm41_MYS_0.cpg        \n",
            "  inflating: gadm41_MYS_0.dbf        \n",
            "  inflating: gadm41_MYS_0.prj        \n",
            "  inflating: gadm41_MYS_0.shp        \n",
            "  inflating: gadm41_MYS_0.shx        \n",
            " extracting: gadm41_MYS_1.cpg        \n",
            "  inflating: gadm41_MYS_1.dbf        \n",
            "  inflating: gadm41_MYS_1.prj        \n",
            "  inflating: gadm41_MYS_1.shp        \n",
            "  inflating: gadm41_MYS_1.shx        \n",
            " extracting: gadm41_MYS_2.cpg        \n",
            "  inflating: gadm41_MYS_2.dbf        \n",
            "  inflating: gadm41_MYS_2.prj        \n",
            "  inflating: gadm41_MYS_2.shp        \n",
            "  inflating: gadm41_MYS_2.shx        \n"
          ]
        },
        {
          "output_type": "display_data",
          "data": {
            "text/plain": [
              "<Figure size 1000x1000 with 0 Axes>"
            ]
          },
          "metadata": {}
        },
        {
          "output_type": "display_data",
          "data": {
            "text/plain": [
              "<Figure size 640x480 with 1 Axes>"
            ],
            "image/png": "[encoded data removed]"
          },
          "metadata": {}
        },
        {
          "output_type": "stream",
          "name": "stderr",
          "text": [
            "<ipython-input-1-8931ac5adec0>:23: UserWarning: Geometry is in a geographic CRS. Results from 'centroid' are likely incorrect. Use 'GeoSeries.to_crs()' to re-project geometries to a projected CRS before this operation.\n",
            "\n",
            "  center = malaysia_gdf.geometry.centroid.y.mean(), malaysia_gdf.geometry.centroid.x.mean()\n"
          ]
        },
        {
          "output_type": "stream",
          "name": "stdout",
          "text": [
            "Interactive map saved as malaysia_map.html\n",
            "\n",
            "Shapefile Information:\n",
            "<class 'geopandas.geodataframe.GeoDataFrame'>\n",
            "RangeIndex: 1 entries, 0 to 0\n",
            "Data columns (total 3 columns):\n",
            " #   Column    Non-Null Count  Dtype   \n",
            "---  ------    --------------  -----   \n",
            " 0   GID_0     1 non-null      object  \n",
            " 1   COUNTRY   1 non-null      object  \n",
            " 2   geometry  1 non-null      geometry\n",
            "dtypes: geometry(1), object(2)\n",
            "memory usage: 152.0+ bytes\n",
            "None\n"
          ]
        }
      ],
      "source": [
        "# Install required libraries\n",
        "!pip install geopandas folium matplotlib\n",
        "\n",
        "# Download Malaysia Shapefile from GADM\n",
        "!wget https://geodata.ucdavis.edu/gadm/gadm4.1/shp/gadm41_M YS_shp.zip\n",
        "!unzip gadm41_MYS_shp.zip\n",
        "\n",
        "import geopandas as gpd\n",
        "import folium\n",
        "import matplotlib.pyplot as plt\n",
        "\n",
        "# Read the shapefile (country level)\n",
        "malaysia_gdf = gpd.read_file('gadm41_MYS_0.shp')\n",
        "\n",
        "# Matplotlib Static Map\n",
        "plt.figure(figsize=(10, 10))\n",
        "malaysia_gdf.plot()\n",
        "plt.title('Malaysia Country Boundary')\n",
        "plt.show()\n",
        "\n",
        "# Folium Interactive Map\n",
        "# Calculate map center\n",
        "center = malaysia_gdf.geometry.centroid.y.mean(), malaysia_gdf.geometry.centroid.x.mean()\n",
        "\n",
        "# Create interactive map\n",
        "m = folium.Map(location=center, zoom_start=5)\n",
        "\n",
        "# Add country boundary to map\n",
        "folium.GeoJson(\n",
        "    malaysia_gdf.geometry.to_json(),\n",
        "    name='Malaysia Boundary',\n",
        "    style_function=lambda x: {\n",
        "        'fillColor': 'blue',\n",
        "        'color': 'red',\n",
        "        'weight': 2,\n",
        "        'fillOpacity': 0.3\n",
        "    }\n",
        ").add_to(m)\n",
        "\n",
        "# Save interactive map\n",
        "m.save('malaysia_map.html')\n",
        "print(\"Interactive map saved as malaysia_map.html\")\n",
        "\n",
        "# Print basic information about the shapefile\n",
        "print(\"\\nShapefile Information:\")\n",
        "print(malaysia_gdf.info())"
      ]
    }
  ]
}