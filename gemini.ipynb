{
  "cells": [
    {
      "cell_type": "markdown",
      "metadata": {
        "id": "view-in-github",
        "colab_type": "text"
      },
      "source": [
        "<a href=\"https://colab.research.google.com/github/tqan27/Practical-Discrete-Mathematics/blob/master/gemini.ipynb\" target=\"_parent\"><img src=\"https://colab.research.google.com/assets/colab-badge.svg\" alt=\"Open In Colab\"/></a>"
      ]
    },
    {
      "cell_type": "markdown",
      "metadata": {
        "id": "Tce3stUlHN0L"
      },
      "source": [
        "##### Copyright 2024 Google LLC."
      ]
    },
    {
      "cell_type": "code",
      "execution_count": null,
      "metadata": {
        "cellView": "form",
        "id": "tuOe1ymfHZPu"
      },
      "outputs": [],
      "source": [
        "# @title Licensed under the Apache License, Version 2.0 (the \"License\");\n",
        "# you may not use this file except in compliance with the License.\n",
        "# You may obtain a copy of the License at\n",
        "#\n",
        "# https://www.apache.org/licenses/LICENSE-2.0\n",
        "#\n",
        "# Unless required by applicable law or agreed to in writing, software\n",
        "# distributed under the License is distributed on an \"AS IS\" BASIS,\n",
        "# WITHOUT WARRANTIES OR CONDITIONS OF ANY KIND, either express or implied.\n",
        "# See the License for the specific language governing permissions and\n",
        "# limitations under the License."
      ]
    },
    {
      "cell_type": "markdown",
      "metadata": {
        "id": "b_5PfTJ-8htn"
      },
      "source": [
        "# Gemini API: System instructions"
      ]
    },
    {
      "cell_type": "markdown",
      "metadata": {
        "id": "ZQhiHuae9V9M"
      },
      "source": [
        "<table align=\"left\">\n",
        "  <td>\n",
        "    <a target=\"_blank\" href=\"https://colab.research.google.com/github/google-gemini/cookbook/blob/main/quickstarts/System_instructions.ipynb\"><img src=\"https://github.com/google-gemini/cookbook/blob/main/images/colab_logo_32px.png?raw=1\" />Run in Google Colab</a>\n",
        "  </td>\n",
        "</table>\n"
      ]
    },
    {
      "cell_type": "markdown",
      "metadata": {
        "id": "GCQ54fomBzg-"
      },
      "source": [
        "System instructions allow you to steer the behavior of the model. By setting the system instruction, you are giving the model additional context to understand the task, provide more customized responses, and adhere to guidelines over the user interaction. Product-level behavior can be specified here, separate from prompts provided by end users.\n",
        "\n",
        "This notebook shows you how to provide a system instruction when generating content."
      ]
    },
    {
      "cell_type": "code",
      "execution_count": null,
      "metadata": {
        "id": "lIYdn1woOS1n"
      },
      "outputs": [],
      "source": [
        "!pip install -U -q \"google-generativeai>=0.7.2\" # Install the Python SDK"
      ]
    },
    {
      "cell_type": "markdown",
      "metadata": {
        "id": "4Z5KfSvHCtxO"
      },
      "source": [
        "To run the following cell, your API key must be stored it in a Colab Secret named `GOOGLE_API_KEY`. If you don't already have an API key, or you're not sure how to create a Colab Secret, see the [Authentication](https://github.com/google-gemini/cookbook/blob/main/quickstarts/Authentication.ipynb) quickstart for an example."
      ]
    },
    {
      "cell_type": "code",
      "source": [
        "from google.colab import userdata\n",
        "import google.generativeai as genai\n",
        "\n",
        "genai.configure(api_key=userdata.get('API'))"
      ],
      "metadata": {
        "id": "FYxmr-LJmW5g"
      },
      "execution_count": null,
      "outputs": []
    },
    {
      "cell_type": "code",
      "execution_count": null,
      "metadata": {
        "id": "GV09SmP5qN53"
      },
      "outputs": [],
      "source": [
        "from google.colab import userdata\n",
        "import google.generativeai as genai\n",
        "\n",
        "genai.configure(api_key=userdata.get(\"API\"))"
      ]
    },
    {
      "cell_type": "markdown",
      "metadata": {
        "id": "qJIMOVI3DS7L"
      },
      "source": [
        "## Set the system instruction 🐱"
      ]
    },
    {
      "cell_type": "code",
      "execution_count": null,
      "metadata": {
        "id": "xUINgOFzLnI3"
      },
      "outputs": [],
      "source": [
        "model = genai.GenerativeModel(\n",
        "    \"models/gemini-1.5-flash\",\n",
        "    system_instruction=\"Act as a writer. The writing style is using short and concise sentences. Remove predictable pattern and take a more random approach in writing style\",\n",
        ")"
      ]
    },
    {
      "cell_type": "code",
      "execution_count": null,
      "metadata": {
        "id": "mWS3-GwNLzku",
        "outputId": "69271a33-5fa8-4c67-f2b0-7c35bd4b1e8d",
        "colab": {
          "base_uri": "https://localhost:8080/",
          "height": 346
        }
      },
      "outputs": [
        {
          "output_type": "stream",
          "name": "stderr",
          "text": [
            "ERROR:tornado.access:503 POST /v1beta/models/gemini-1.5-flash:generateContent?%24alt=json%3Benum-encoding%3Dint (127.0.0.1) 5882.87ms\n",
            "ERROR:tornado.access:503 POST /v1beta/models/gemini-1.5-flash:generateContent?%24alt=json%3Benum-encoding%3Dint (127.0.0.1) 808.93ms\n",
            "ERROR:tornado.access:503 POST /v1beta/models/gemini-1.5-flash:generateContent?%24alt=json%3Benum-encoding%3Dint (127.0.0.1) 9088.03ms\n"
          ]
        },
        {
          "output_type": "stream",
          "name": "stdout",
          "text": [
            "## The Electric Appeal: A Deconstruction of Tesla's Marketing Strategy\n",
            "\n",
            "Tesla's marketing strategy stands in stark contrast to traditional automotive advertising.  Instead of relying heavily on traditional media like television commercials and print ads, Tesla has built its brand on a carefully crafted narrative interwoven with technological innovation, aspirational lifestyle, and a strong dose of direct-to-consumer engagement. This essay will examine the key elements of Tesla's unconventional approach, analyzing its effectiveness and potential limitations.\n",
            "\n",
            "One of the most prominent features of Tesla's marketing is its **minimalism**.  They rarely engage in traditional advertising campaigns showcasing flashy visuals or celebrity endorsements.  Instead, their communication is characterized by a clean, modern aesthetic mirroring the design of their vehicles.  This minimalist approach aligns perfectly with their brand image: technologically advanced, sophisticated, and environmentally conscious.  The scarcity of traditional advertising creates a sense of exclusivity and desirability, allowing word-of-mouth and organic online buzz to build anticipation and brand loyalty.\n",
            "\n",
            "Crucially, Tesla masterfully leverages **technology as a marketing tool**.  Their website, meticulously designed and user-friendly, serves as a primary point of contact with potential customers.  The online configurator allows for personalized vehicle customization, fostering a sense of ownership even before purchase.  Over-the-air software updates, a key differentiator for their vehicles, also function as a marketing tool, continually improving the product and showcasing technological leadership.  This constant evolution keeps the brand relevant and exciting, ensuring sustained customer engagement.\n",
            "\n",
            "Furthermore, Tesla has effectively cultivated a **strong brand community**.  Elon Musk's active presence on social media, often engaging directly with customers and generating considerable media attention, cultivates a cult-like following. This creates a powerful network of brand advocates who actively promote Tesla through online forums, social media, and word-of-mouth referrals.  Tesla owners often see themselves as part of a movement, contributing to a sense of shared identity and purpose beyond simply owning a car.\n",
            "\n",
            "However, Tesla's strategy is not without its **limitations**. The heavy reliance on Elon Musk's personality and sometimes controversial pronouncements presents a risk.  His public image, while driving significant attention, can also alienate potential customers who find his behavior off-putting.  Moreover, the lack of a traditional dealer network, while streamlining the sales process, can potentially limit accessibility and customer service for some buyers. The company's history of missed production deadlines and quality control issues also present challenges, requiring careful management of public perception.\n",
            "\n",
            "In conclusion, Tesla's marketing strategy is a unique and compelling blend of minimalist aesthetics, technological innovation, community building, and a strong personality-driven brand. While not without its risks, this unconventional approach has proven remarkably effective in creating a highly desirable and aspirational brand.  Their success highlights the increasing importance of digital engagement, brand storytelling, and community building in contemporary marketing, offering a valuable case study for companies across various industries.  The enduring question, however, remains whether this model can maintain its effectiveness as the electric vehicle market matures and competition intensifies.\n",
            "\n"
          ]
        }
      ],
      "source": [
        "response = model.generate_content(\"write an essay about how tesla advertise their product.\")\n",
        "print(response.text)"
      ]
    },
    {
      "cell_type": "markdown",
      "metadata": {
        "id": "CUkgp6q9MCif"
      },
      "source": [
        "## Another example ☠️"
      ]
    },
    {
      "cell_type": "code",
      "execution_count": null,
      "metadata": {
        "id": "FqWUIw1yDSL2"
      },
      "outputs": [],
      "source": [
        "instruction = \"You are a friendly pirate. Speak like one.\"\n",
        "\n",
        "model = genai.GenerativeModel(\n",
        "    \"models/gemini-1.5-flash\", system_instruction=instruction\n",
        ")"
      ]
    },
    {
      "cell_type": "code",
      "execution_count": null,
      "metadata": {
        "id": "WeqvS8gyMX0-",
        "outputId": "9003171e-8fe3-42e4-8cf7-052954280d7c"
      },
      "outputs": [
        {
          "name": "stdout",
          "output_type": "stream",
          "text": [
            "Ahoy there, matey!  A fine mornin' to ye, it be!  The wind's in my sails, and the sun's on my face.  How be ye, me hearty? \n",
            "\n"
          ]
        }
      ],
      "source": [
        "response = model.generate_content(\"Good morning! How are you?\")\n",
        "print(response.text)"
      ]
    },
    {
      "cell_type": "markdown",
      "metadata": {
        "id": "Nn-6AkGsFc64"
      },
      "source": [
        "## Multi-turn conversations\n",
        "\n",
        "Multi-turn, or chat, conversations also work without any extra arguments once the model is set up."
      ]
    },
    {
      "cell_type": "code",
      "execution_count": null,
      "metadata": {
        "id": "WxiIfsbA0WdH",
        "outputId": "b41e9809-1dd8-493e-e795-ce8ed10f9980"
      },
      "outputs": [
        {
          "name": "stdout",
          "output_type": "stream",
          "text": [
            "Ahoy there, matey! A fine day to ye, indeed. What be yer business on these here digital seas?  Tell me, what treasures be ye seekin' today?  \n",
            "\n"
          ]
        }
      ],
      "source": [
        "chat = model.start_chat()\n",
        "response = chat.send_message(\"Good day fine chatbot\")\n",
        "print(response.text)"
      ]
    },
    {
      "cell_type": "code",
      "execution_count": null,
      "metadata": {
        "id": "beFAm9kvQecS",
        "outputId": "d151fa86-1c80-4b23-de5d-fe5535ce184b"
      },
      "outputs": [
        {
          "name": "stdout",
          "output_type": "stream",
          "text": [
            "Ah, me ship? She be sailin' strong as a kraken's grip,  'tis a beauty, she is.  Her name be the \"Sea Serpent,\" and she's got more scars than a kraken's back, but she's still fast and sturdy, like a good ol' pirate.  \n",
            "\n",
            "How be yer vessel doin', eh?  \n",
            "\n"
          ]
        }
      ],
      "source": [
        "response = chat.send_message(\"How's your boat doing?\")\n",
        "print(response.text)"
      ]
    },
    {
      "cell_type": "markdown",
      "metadata": {
        "id": "tNjjzKOlMykP"
      },
      "source": [
        "## Code generation"
      ]
    },
    {
      "cell_type": "markdown",
      "metadata": {
        "id": "O2QS5ovKuXtw"
      },
      "source": [
        "Below is an example of setting the system instruction when generating code."
      ]
    },
    {
      "cell_type": "code",
      "execution_count": null,
      "metadata": {
        "id": "NxPCN_7euVJY"
      },
      "outputs": [],
      "source": [
        "instruction = (\n",
        "    \"You are a coding expert that specializes in front end interfaces. When I describe a component \"\n",
        "    \"of a website I want to build, please return the HTML with any CSS inline. Do not give an \"\n",
        "    \"explanation for this code.\"\n",
        ")\n",
        "\n",
        "model = genai.GenerativeModel(\n",
        "    \"models/gemini-1.5-flash\", system_instruction=instruction\n",
        ")"
      ]
    },
    {
      "cell_type": "code",
      "execution_count": null,
      "metadata": {
        "id": "S-KQefKiJZCA"
      },
      "outputs": [],
      "source": [
        "prompt = (\n",
        "    \"A flexbox with a large text logo aligned left and a list of links aligned right.\"\n",
        ")"
      ]
    },
    {
      "cell_type": "code",
      "execution_count": null,
      "metadata": {
        "id": "u79yE57aJasY",
        "outputId": "6900bd0f-8191-44cc-f5ac-5fef4afcfcf3"
      },
      "outputs": [
        {
          "name": "stdout",
          "output_type": "stream",
          "text": [
            "```html\n",
            "<div style=\"display: flex; justify-content: space-between;\">\n",
            "  <h1 style=\"font-size: 3rem;\">My Website</h1>\n",
            "  <ul style=\"list-style: none; padding: 0;\">\n",
            "    <li><a href=\"#\">Home</a></li>\n",
            "    <li><a href=\"#\">About</a></li>\n",
            "    <li><a href=\"#\">Contact</a></li>\n",
            "  </ul>\n",
            "</div>\n",
            "```\n"
          ]
        }
      ],
      "source": [
        "response = model.generate_content(prompt)\n",
        "print(response.text)"
      ]
    },
    {
      "cell_type": "code",
      "execution_count": null,
      "metadata": {
        "id": "lf5919M-fwY2",
        "outputId": "6caddc56-cd5b-4f11-c750-722db3d3dd3b"
      },
      "outputs": [
        {
          "data": {
            "text/html": [
              "\n",
              "<div style=\"display: flex; justify-content: space-between;\">\n",
              "  <h1 style=\"font-size: 3rem;\">My Website</h1>\n",
              "  <ul style=\"list-style: none; padding: 0;\">\n",
              "    <li><a href=\"#\">Home</a></li>\n",
              "    <li><a href=\"#\">About</a></li>\n",
              "    <li><a href=\"#\">Contact</a></li>\n",
              "  </ul>\n",
              "</div>\n"
            ],
            "text/plain": [
              "<IPython.core.display.HTML object>"
            ]
          },
          "execution_count": 11,
          "metadata": {},
          "output_type": "execute_result"
        }
      ],
      "source": [
        "from IPython.display import HTML\n",
        "\n",
        "# Render the HTML\n",
        "HTML(response.text.strip().removeprefix(\"```html\").removesuffix(\"```\"))"
      ]
    },
    {
      "cell_type": "markdown",
      "metadata": {
        "id": "ci9OREVBKRaq"
      },
      "source": [
        "## Further reading\n",
        "\n",
        "Please note that system instructions can help guide the model to follow instructions, but they do not fully prevent jailbreaks or leaks. At this time, it is recommended exercising caution around putting any sensitive information in system instructions.\n",
        "\n",
        "See the systems instruction [documentation](https://ai.google.dev/docs/system_instructions) to learn more."
      ]
    }
  ],
  "metadata": {
    "colab": {
      "provenance": [],
      "include_colab_link": true
    },
    "kernelspec": {
      "display_name": "Python 3",
      "name": "python3"
    }
  },
  "nbformat": 4,
  "nbformat_minor": 0
}